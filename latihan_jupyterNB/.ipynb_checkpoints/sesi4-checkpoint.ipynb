{
 "cells": [
  {
   "cell_type": "markdown",
   "id": "86c95500-872c-42a9-8bce-5689757cb12c",
   "metadata": {},
   "source": [
    "operator aritmatika"
   ]
  },
  {
   "cell_type": "code",
   "execution_count": 5,
   "id": "e775b1a6-b1c8-45cd-868b-3e2466c0ed26",
   "metadata": {},
   "outputs": [
    {
     "name": "stdin",
     "output_type": "stream",
     "text": [
      "masukkan input x  10\n",
      "masukkan input y  2\n"
     ]
    },
    {
     "name": "stdout",
     "output_type": "stream",
     "text": [
      "hasil penjumlahan 10 + 2 = 12\n",
      "hasil pengurangan 10 - 2 = 8\n",
      "hasil perkalian 10 * 2 = 20\n",
      "hasil pempabgian 10 / 2 = 5.0\n",
      "hasil modulus  10 % 2 = 0\n",
      "hasil pangkat 10 ** 2 = 100\n",
      "hasil bagibulat 10 // 2 = 5\n"
     ]
    }
   ],
   "source": [
    "x = int(input(\"masukkan input x \"))\n",
    "y = int(input(\"masukkan input y \"))\n",
    "\n",
    "hasiltambah = x + y\n",
    "hasilkurang = x - y\n",
    "hasilkali = x * y\n",
    "hasilbagi = x / y\n",
    "hasilmod = x % y\n",
    "hasilpangkat = x ** y\n",
    "hasilbagibulat = x // y\n",
    "\n",
    "print(\"hasil penjumlahan\",x,\"+\",y,\"=\",hasiltambah)\n",
    "print(\"hasil pengurangan\",x,\"-\",y,\"=\",hasilkurang)\n",
    "print(\"hasil perkalian\",x,\"*\",y,\"=\",hasilkali)\n",
    "print(\"hasil pempabgian\",x,\"/\",y,\"=\",hasilbagi)\n",
    "print(\"hasil modulus \",x,\"%\",y,\"=\",hasilmod)\n",
    "print(\"hasil pangkat\",x,\"**\",y,\"=\",hasilpangkat)\n",
    "print(\"hasil bagibulat\",x,\"//\",y,\"=\",hasilbagibulat)"
   ]
  },
  {
   "cell_type": "markdown",
   "id": "84ec35ea-b42b-4d75-9266-46768625e245",
   "metadata": {},
   "source": [
    "operator penugasan"
   ]
  },
  {
   "cell_type": "code",
   "execution_count": 25,
   "id": "d94c841b-a6c7-4829-bdcf-93b172e04c84",
   "metadata": {},
   "outputs": [
    {
     "name": "stdin",
     "output_type": "stream",
     "text": [
      "isikan nilai :  12\n"
     ]
    },
    {
     "name": "stdout",
     "output_type": "stream",
     "text": [
      "nilai 12  dari variable <nilai> adalah :  12\n",
      "nilai 17 setelah di tambah 5 hasilnya adalah  17\n",
      "nilai 12 setelah di kurang 5 hasilnya adalah  12\n",
      "nilai 60 setelah di kalikan 5 hasilnya adalah  60\n",
      "nilai 12.0 setelah di bagi 5 hasilnya adalah  12.0\n"
     ]
    }
   ],
   "source": [
    "nilai = int(input(\"isikan nilai : \"))\n",
    "print(\"nilai\", nilai, \" dari variable <nilai> adalah : \",nilai )\n",
    "nilai +=5 \n",
    "print(\"nilai\", nilai,\"setelah di tambah 5 hasilnya adalah \",nilai)\n",
    "nilai -=5 \n",
    "print(\"nilai\", nilai,\"setelah di kurang 5 hasilnya adalah \",nilai)\n",
    "nilai *=5 \n",
    "print(\"nilai\", nilai,\"setelah di kalikan 5 hasilnya adalah \",nilai)\n",
    "nilai /=5 \n",
    "print(\"nilai\", nilai,\"setelah di bagi 5 hasilnya adalah \",nilai)"
   ]
  },
  {
   "cell_type": "markdown",
   "id": "f9896885-e947-4e76-a0a9-53c094a1d2de",
   "metadata": {},
   "source": [
    "operator perbandingan"
   ]
  },
  {
   "cell_type": "code",
   "execution_count": 30,
   "id": "cf163d0d-da61-4c31-99fc-9a88598847ea",
   "metadata": {},
   "outputs": [
    {
     "name": "stdin",
     "output_type": "stream",
     "text": [
      "masukkan nilai 1  10\n",
      "masukkan nilai 2  10\n"
     ]
    },
    {
     "name": "stdout",
     "output_type": "stream",
     "text": [
      "apakah 10 sama dengan 10  :? True\n",
      "apakah 10 tidak samadengan  10  :? False\n",
      "apakah 10 sama dengan 10  :? False\n",
      "apakah 10 sama dengan 10  :? True\n",
      "apakah 10 sama dengan 10  :? False\n",
      "apakah 10 sama dengan 10  :? True\n"
     ]
    }
   ],
   "source": [
    "vall1 = int(input(\"masukkan nilai 1 \"))\n",
    "vall2 = int(input(\"masukkan nilai 2 \"))\n",
    "\n",
    "print(\"apakah\",vall1,\"sama dengan\",vall2,\" :?\", vall1==vall2)\n",
    "print(\"apakah\",vall1,\"tidak samadengan \",vall2,\" :?\", vall1!=vall2)\n",
    "print(\"apakah\",vall1,\"sama dengan\",vall2,\" :?\", vall1>vall2)\n",
    "print(\"apakah\",vall1,\"sama dengan\",vall2,\" :?\", vall1>=vall2)\n",
    "print(\"apakah\",vall1,\"sama dengan\",vall2,\" :?\", vall1<vall2)\n",
    "print(\"apakah\",vall1,\"sama dengan\",vall2,\" :?\", vall1<=vall2)\n"
   ]
  },
  {
   "cell_type": "markdown",
   "id": "10acf864-3d71-44cd-8031-5f2f4491d01d",
   "metadata": {},
   "source": [
    "operator Logika"
   ]
  },
  {
   "cell_type": "code",
   "execution_count": 42,
   "id": "98a507f9-08ec-480c-97aa-3992e6887d70",
   "metadata": {},
   "outputs": [
    {
     "name": "stdin",
     "output_type": "stream",
     "text": [
      "isikan nomor 1 1\n",
      "isikan nomor 2 1\n"
     ]
    },
    {
     "name": "stdout",
     "output_type": "stream",
     "text": [
      "apakah no1 % no 2 = 0 and no2 > 4 ?  0\n",
      "apakah no1 % no 2 = 0 or no2 > 4 ?  False\n",
      "apakah no1 % no 2 = 0 not no2 > 4 ?  True\n"
     ]
    }
   ],
   "source": [
    "no1 = int(input(\"isikan nomor 1\"))\n",
    "no2 = int(input(\"isikan nomor 2\"))\n",
    "\n",
    "print(\"apakah no1 % no 2 = 0 and no2 > 4 ? \", no1 %no2 and no2 > 4)\n",
    "print(\"apakah no1 % no 2 = 0 or no2 > 4 ? \", no1 %no2 or no2 > 4)\n",
    "print(\"apakah no1 % no 2 = 0 not no2 > 4 ? \", not (no1 %no2 and no2 > 4))"
   ]
  },
  {
   "cell_type": "markdown",
   "id": "3dce92cc-460b-4716-a9c7-7192e131d734",
   "metadata": {},
   "source": [
    "operator identitas"
   ]
  },
  {
   "cell_type": "code",
   "execution_count": 47,
   "id": "72cb495b-da83-4d41-b060-05f4738ef1ec",
   "metadata": {},
   "outputs": [
    {
     "name": "stdout",
     "output_type": "stream",
     "text": [
      "alamat memori nomor 1 140710866528984\n",
      "alamat memori nomor 2 1634944854768\n",
      "alamat memori nomor 2 1634944854768\n",
      "False\n",
      "True\n",
      "True\n"
     ]
    }
   ],
   "source": [
    "no1 = 10\n",
    "no2 = \"10\"\n",
    "no3 = no2 \n",
    "\n",
    "print(\"alamat memori nomor 1\", id(no1))\n",
    "print(\"alamat memori nomor 2\",id(no2))\n",
    "print(\"alamat memori nomor 2\",id(no3))\n",
    "\n",
    "print(no1 is no2)\n",
    "print(no2 is no3)\n",
    "print(no1 is not no2)\n",
    "\n"
   ]
  },
  {
   "cell_type": "markdown",
   "id": "d2963b8e-3a68-484a-a462-8759ed14cff2",
   "metadata": {},
   "source": [
    "operator keanggotaan"
   ]
  },
  {
   "cell_type": "code",
   "execution_count": 55,
   "id": "ed579aef-548a-4b16-9ebe-a2803794e8d5",
   "metadata": {},
   "outputs": [
    {
     "name": "stdout",
     "output_type": "stream",
     "text": [
      "True\n",
      "False\n",
      "True\n"
     ]
    }
   ],
   "source": [
    "nama =\"latip\"\n",
    "print(\"p\" in nama)\n",
    "\n",
    "listpresiden ={\"sukarno\",\"prabowo\",\"jokowi\",\"suharto\"}\n",
    "print(nama in listpresiden)\n",
    "print(nama not in listpresiden)"
   ]
  },
  {
   "cell_type": "markdown",
   "id": "a0fec909-dedb-4427-a94e-928130fc0f0f",
   "metadata": {},
   "source": [
    "operator bitwise"
   ]
  },
  {
   "cell_type": "code",
   "execution_count": 71,
   "id": "9bc00906-e653-47a9-a2a9-7204f65ce81b",
   "metadata": {},
   "outputs": [
    {
     "name": "stdin",
     "output_type": "stream",
     "text": [
      "isikan bilangan 1 :  1\n",
      "isikan bilangan 2 :\n",
      "  1\n"
     ]
    },
    {
     "name": "stdout",
     "output_type": "stream",
     "text": [
      "0b1\n",
      "0b1\n",
      "---------------------&\n",
      "0b1  =  1\n",
      "0b1\n",
      "0b1\n",
      "--------------------- |\n",
      "0b1  =  1\n",
      "0b1\n",
      "0b1\n",
      "---------------------^\n",
      "0b0  =  0\n",
      "0b1 geser ke kiri sebanyak 1\n",
      "hasilnya adalah 0b10  =  2\n",
      "0b1 geser ke kanan sebanyak 1\n",
      "hasilnya adalah 0b0  =  0\n"
     ]
    }
   ],
   "source": [
    "no1 = int(input(\"isikan bilangan 1 : \"))\n",
    "no2 = int(input(\"isikan bilangan 2 : \"))\n",
    "\n",
    "print(\"n\")\n",
    "print(bin(no1))\n",
    "print(bin(no2))\n",
    "print(\"---------------------&\")\n",
    "print(bin(no1 & no2),\" = \",no1 & no2)\n",
    "\n",
    "print(bin(no1))\n",
    "print(bin(no2))\n",
    "print(\"--------------------- |\")\n",
    "print(bin(no1 | no2),\" = \",no1 | no2)\n",
    "\n",
    "print(bin(no1))\n",
    "print(bin(no2))\n",
    "print(\"---------------------^\")\n",
    "print(bin(no1 ^ no2),\" = \",no1 ^ no2)\n",
    "\n",
    "print(bin(no1),\"geser ke kiri sebanyak\",no2)\n",
    "print(\"hasilnya adalah\",bin(no1 << no2),\" = \",no1 << no2)\n",
    "\n",
    "print(bin(no1),\"geser ke kanan sebanyak\",no2)\n",
    "print(\"hasilnya adalah\",bin(no1 >> no2),\" = \",no1 >> no2)\n"
   ]
  },
  {
   "cell_type": "markdown",
   "id": "27cf43fa-1c99-42f0-996c-bfc669581fbf",
   "metadata": {},
   "source": [
    "operator ternary"
   ]
  },
  {
   "cell_type": "code",
   "execution_count": 80,
   "id": "98d77f8b-154b-4167-a31a-bb1b0fa2b8b7",
   "metadata": {},
   "outputs": [
    {
     "name": "stdin",
     "output_type": "stream",
     "text": [
      "masukkan bilangan :  1\n"
     ]
    },
    {
     "name": "stdout",
     "output_type": "stream",
     "text": [
      "1 adalah bilangan ganjil\n"
     ]
    }
   ],
   "source": [
    "#mengecek bilangann ganjil atau genap\n",
    "no =int(input(\"masukkan bilangan : \"))\n",
    "nilai = \"genap\" if no % 2==0 else \"ganjil\"\n",
    "print(no,\"adalah bilangan\",nilai)"
   ]
  },
  {
   "cell_type": "markdown",
   "id": "f695c4e4-76f2-436c-939d-ae654164fedf",
   "metadata": {},
   "source": [
    "soal latihan  ibu berberlanja takjil untuk berbuka puasa dengan pilihan menu : \n",
    "<ol>\n",
    "    <li>\n",
    "        pisang coklat : 13.000\n",
    "    </li>\n",
    "    <li>\n",
    "        kolak : 7.000\n",
    "    </li>\n",
    "    <li>\n",
    "        es buah : 15.000\n",
    "    </li>\n",
    "</ol>\n",
    "jika ibu berbelanja lebih dari 25.000 maka akan mendapatkan diskon 5 % hitunglah total belanjaan yang harus di bayar oleh ibu"
   ]
  },
  {
   "cell_type": "code",
   "execution_count": 115,
   "id": "c9217111-847f-4946-9891-3fab475e3420",
   "metadata": {},
   "outputs": [
    {
     "ename": "SyntaxError",
     "evalue": "expected 'else' after 'if' expression (605568164.py, line 11)",
     "output_type": "error",
     "traceback": [
      "\u001b[1;36m  Cell \u001b[1;32mIn[115], line 11\u001b[1;36m\u001b[0m\n\u001b[1;33m    diskon = 5 if total belanja > 25000 else 0\u001b[0m\n\u001b[1;37m             ^\u001b[0m\n\u001b[1;31mSyntaxError\u001b[0m\u001b[1;31m:\u001b[0m expected 'else' after 'if' expression\n"
     ]
    }
   ],
   "source": [
    "piscok = int(input(\"masukkan jumlah pisang coklat yang di beli : \"))\n",
    "kolak = int(input(\"masukkan jumlah kolak yang di beli : \"))\n",
    "esbuah = int(input(\"masukkan jumlah esbuah yang di beli : \"))\n",
    "\n",
    "jpiscok = piscok * 13000\n",
    "jkolak = kolak *7000\n",
    "jesbuah = esbuah *15000\n",
    "totalbelanja = jpiscok + jkolak + jesbuah\n",
    "print(totalbelanja)\n",
    "\n",
    "diskon = 5 if total belanja > 25000 else 0 \n",
    "print(\"total diskon\",diskon,\"% -->\",totalbelanja =(diskon/100))\n",
    "\n",
    "print(\"total bayar : \",totalbayar (totalbelanja =(diskon/100))\n",
    "\n",
    "\n",
    "\n"
   ]
  },
  {
   "cell_type": "code",
   "execution_count": null,
   "id": "cb593852-7d85-44b7-a866-2f3bce7bd9df",
   "metadata": {},
   "outputs": [],
   "source": []
  }
 ],
 "metadata": {
  "kernelspec": {
   "display_name": "Python [conda env:base] *",
   "language": "python",
   "name": "conda-base-py"
  },
  "language_info": {
   "codemirror_mode": {
    "name": "ipython",
    "version": 3
   },
   "file_extension": ".py",
   "mimetype": "text/x-python",
   "name": "python",
   "nbconvert_exporter": "python",
   "pygments_lexer": "ipython3",
   "version": "3.12.7"
  }
 },
 "nbformat": 4,
 "nbformat_minor": 5
}
