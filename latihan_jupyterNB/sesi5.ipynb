{
 "cells": [
  {
   "cell_type": "code",
   "execution_count": 18,
   "id": "1b96ceeb-982f-406f-b31b-85a7169e8649",
   "metadata": {},
   "outputs": [
    {
     "name": "stdin",
     "output_type": "stream",
     "text": [
      "isikan nama latip\n"
     ]
    },
    {
     "name": "stdout",
     "output_type": "stream",
     "text": [
      "selamat datang  latip\n",
      "ini adalah urutan angka:\n",
      "1 2 3\n",
      "A*B*C\n"
     ]
    }
   ],
   "source": [
    "name = input(\"isikan nama\")\n",
    "\n",
    "print(\"selamat datang \",name)\n",
    "print(\"ini adalah urutan angka:\")\n",
    "print(\"1\", end=' ')\n",
    "print(\"2\", end=' ')\n",
    "print(\"3\")\n",
    "\n",
    "print (\"A\",\"B\",\"C\",sep=\"*\")"
   ]
  },
  {
   "cell_type": "markdown",
   "id": "2486d215-8a95-4858-81dd-b11107199b48",
   "metadata": {},
   "source": [
    "<h1>string format</h1>"
   ]
  },
  {
   "cell_type": "code",
   "execution_count": 16,
   "id": "3a717e32-e02c-4183-a345-e2a288e3b2e3",
   "metadata": {},
   "outputs": [
    {
     "name": "stdin",
     "output_type": "stream",
     "text": [
      "isikan bilangan ke-1  10\n",
      "isikan bilangan ke-2  2\n"
     ]
    },
    {
     "name": "stdout",
     "output_type": "stream",
     "text": [
      "hasil penjumlahan 10 + 2 = 12\n",
      "hasil penjumlahan 10 + 2 = 12\n"
     ]
    }
   ],
   "source": [
    "val1 = int(input(\"isikan bilangan ke-1 \"))\n",
    "val2 = int(input(\"isikan bilangan ke-2 \"))\n",
    "\n",
    "print(\"hasil penjumlahan\",val1,\"+\",val2,\"=\",val1+val2)\n",
    "print(\"hasil penjumlahan {} + {} = {}\".format(val1,val2,val1+val2))\n",
    "print(\"hasil dari penjumlahan \")"
   ]
  },
  {
   "cell_type": "markdown",
   "id": "82ff93e4-0bfc-4d1e-8fec-b691bdaa85a1",
   "metadata": {},
   "source": [
    "<h1>format index </h1>"
   ]
  },
  {
   "cell_type": "code",
   "execution_count": 40,
   "id": "d5d10890-986e-41fd-b035-81b88ea17ab5",
   "metadata": {},
   "outputs": [
    {
     "name": "stdin",
     "output_type": "stream",
     "text": [
      "masukkan nama awal latip\n",
      "masukkan nama tengah D'\n",
      "masukkan nama akhir Febrianka\n"
     ]
    },
    {
     "name": "stdout",
     "output_type": "stream",
     "text": [
      "nama lengkap latip D' Febrianka\n",
      "nama lengkap D' latip Febrianka\n",
      "nama lengkap Febrianka D' latip\n",
      "nama lengkap latip D' Febrianka\n"
     ]
    }
   ],
   "source": [
    "namaAwal = input(\"masukkan nama awal\")\n",
    "namaTengah = input(\"masukkan nama tengah\")\n",
    "namaAkhir = input(\"masukkan nama akhir\")\n",
    "\n",
    "print(\"nama lengkap {} {} {}\".format(namaAwal,namaTengah,namaAkhir))\n",
    "print(\"nama lengkap {1} {0} {2}\".format(namaAwal,namaTengah,namaAkhir))\n",
    "print(\"nama lengkap {2} {1} {0}\".format(namaAwal,namaTengah,namaAkhir))\n",
    "\n",
    "#menggunakan key variable \n",
    "print(\"nama lengkap {a} {t} {b}\".format(a=namaAwal,t=namaTengah,b=namaAkhir))"
   ]
  },
  {
   "cell_type": "markdown",
   "id": "ae1ec074-ec50-4be4-b5ef-f5c75d2bae47",
   "metadata": {},
   "source": [
    "<h1>mengambil karakter pada String </h1>\n",
    "<p>berdasarkan index</p>"
   ]
  },
  {
   "cell_type": "code",
   "execution_count": 55,
   "id": "6dcdd568-c282-4724-b875-7a405e252734",
   "metadata": {},
   "outputs": [
    {
     "name": "stdin",
     "output_type": "stream",
     "text": [
      "masukkan kalimat latip\n"
     ]
    },
    {
     "name": "stdout",
     "output_type": "stream",
     "text": [
      "char ke 2 di kalimat adalah :  a\n",
      "char ke 3 di kalimat adalah :  tip\n",
      "char ke-2-4 :  ati\n",
      "char terakhir :  p\n",
      "char di balik menjadi :  pital\n"
     ]
    }
   ],
   "source": [
    "kalimat = input(\"masukkan kalimat\")\n",
    "\n",
    "#mencetak karakter  ke 2 \n",
    "print(\"char ke 2 di kalimat adalah : \",kalimat[1])\n",
    "#mencetak karakter ke3 sampai seterusnya\n",
    "print(\"char ke 3 di kalimat adalah : \",kalimat[2:])\n",
    "#mecetak karakter ke 2 sampai ke 4\n",
    "print(\"char ke-2-4 : \",kalimat[1:4])\n",
    "#mencetak karakter paling akhir\n",
    "print(\"char terakhir : \",kalimat[-1])\n",
    "#reverse\n",
    "print(\"char di balik menjadi : \",kalimat[::-1])"
   ]
  },
  {
   "cell_type": "markdown",
   "id": "cac778ce-2580-441c-be1a-d3e0d1dcd6e6",
   "metadata": {},
   "source": [
    "<h1>fungsi String</h1>\n"
   ]
  },
  {
   "cell_type": "code",
   "execution_count": 70,
   "id": "49ff9f7c-9e82-4d48-ae88-3b71fc56d1ce",
   "metadata": {},
   "outputs": [
    {
     "name": "stdout",
     "output_type": "stream",
     "text": [
      "nama awal : latip\n",
      "nama tengah : febrianka\n",
      "nama akhir : Pasti\n",
      "nama Gelar  : S.kom\n",
      "F ada di index ke- 0\n"
     ]
    }
   ],
   "source": [
    "#fungsi split\n",
    "lengkap = \"latip febrianka Pasti S.kom\"\n",
    "nama = lengkap.split(\" \")\n",
    "print (\"nama awal :\", nama[0])\n",
    "print (\"nama tengah :\", nama[1])\n",
    "print (\"nama akhir :\", nama[2])\n",
    "print (\"nama Gelar  :\", nama[3])\n",
    "\n",
    "#fungso find \n",
    "#mengembalikan indeks dari posisi  char yang di cari, jika keteku,jika tidak akan menghasilkan indeks 1\n",
    "\n",
    "Nplat = \"F1zr\"\n",
    "cari = Nplat.find(\"F\")\n",
    "print(\"F ada di index ke-\",cari)"
   ]
  },
  {
   "cell_type": "code",
   "execution_count": 82,
   "id": "dccf6789-3afa-4170-af13-8b6d14615287",
   "metadata": {},
   "outputs": [
    {
     "name": "stdin",
     "output_type": "stream",
     "text": [
      "masukkan email anda latip@gmail.com\n"
     ]
    },
    {
     "name": "stdout",
     "output_type": "stream",
     "text": [
      "email valid\n"
     ]
    }
   ],
   "source": [
    "#buatlah program untuk memvalidasi apakah email valid atau tidak ? \n",
    "#valid -> mempunyai tanda @ dan . => latip@gmail.com\n",
    "\n",
    "email = input(\"masukkan email anda\")\n",
    "cari1 = email.find(\"@\")\n",
    "cari2 = email.find(\".\")\n",
    "\n",
    "validtidak = \"email valid\" if cari1 != -1 and cari2 != -1 and cari1 < cari2 else \"tidak valid\"\n",
    "print(validtidak)"
   ]
  },
  {
   "cell_type": "code",
   "execution_count": 94,
   "id": "261a835b-ad21-4e78-bf5b-cc3abb1a0253",
   "metadata": {},
   "outputs": [
    {
     "name": "stdin",
     "output_type": "stream",
     "text": [
      "masukkan input 1 1234\n"
     ]
    }
   ],
   "source": [
    "angka = input(\"masukkan input 1\")\n",
    "sum = int(angka[0]) , int(angka[1]), int(angka[2]), int(angka[3])\n",
    "hasil = int(angka) - 1"
   ]
  },
  {
   "cell_type": "code",
   "execution_count": 110,
   "id": "7c4134ca-38a5-4ee9-9d0b-a4a952f0110c",
   "metadata": {},
   "outputs": [
    {
     "name": "stdout",
     "output_type": "stream",
     "text": [
      "nilai acak pecahan : 0.3993551345019186\n",
      " nilai acak antar 1 - 100 : 35\n",
      "sekarang bulan : jan\n",
      "berapakah hasil dari 61 +52 ? \n"
     ]
    },
    {
     "name": "stdin",
     "output_type": "stream",
     "text": [
      "isikan jawaban anda :  100\n"
     ]
    },
    {
     "name": "stdout",
     "output_type": "stream",
     "text": [
      "hasil anda 100 jawaban  anda salah \n"
     ]
    }
   ],
   "source": [
    "#fungsi String random\n",
    "from random import random \n",
    "nilai = random()\n",
    "\n",
    "print(f\"nilai acak pecahan : {nilai}\")\n",
    "\n",
    "from random import randint \n",
    "intnilai = randint(0,100)\n",
    "print(f\" nilai acak antar 1 - 100 : {intnilai}\")\n",
    "\n",
    "from random import choice \n",
    "bulan =[\"jan\",\"feb\",\"mar\",\"apr\",\"jun\",\"jul\",\"aug\",\"sep\",\"nov\",\"des\"]\n",
    "cbulan = choice(bulan)\n",
    "print(f\"sekarang bulan : {cbulan}\")\n",
    "\n",
    "nilai1 = randint(0,100)\n",
    "nilai2 = randint(0,100)\n",
    "print(f\"berapakah hasil dari {nilai1} +{nilai2} ? \")\n",
    "\n",
    "hasil = int(input(\"isikan jawaban anda : \"))\n",
    "cek= \"anda benar\" if nilai1 + nilai2 == hasil else \"anda salah \"\n",
    "print(f\"hasil anda {hasil} jawaban  {cek}\")\n"
   ]
  },
  {
   "cell_type": "code",
   "execution_count": 124,
   "id": "e6994670-70e4-4187-a4cd-6e117c77e5a5",
   "metadata": {},
   "outputs": [
    {
     "name": "stdout",
     "output_type": "stream",
     "text": [
      "apa arti dari Eat ? \n"
     ]
    },
    {
     "name": "stdin",
     "output_type": "stream",
     "text": [
      "isikan jawaban anda makan\n"
     ]
    },
    {
     "name": "stdout",
     "output_type": "stream",
     "text": [
      "anda benar \n"
     ]
    }
   ],
   "source": [
    "from random import choice\n",
    "kamus = [[\"Eat\",\"Makan\",\"Drink\",\"Minum\"]]\n",
    "ckamus = choice(kamus)\n",
    "print (f\"apa arti dari {ckamus[0]} ? \")\n",
    "jawaban= input(\"isikan jawaban anda\")\n",
    "cek = \"anda benar \" if jawaban.lower() == ckamus[1].lower() else \"jawaban anda salah !!\" \n",
    "print(cek)"
   ]
  },
  {
   "cell_type": "code",
   "execution_count": null,
   "id": "54eb71a6-189a-4e6d-b0a3-fa4d7a8b0420",
   "metadata": {},
   "outputs": [],
   "source": []
  }
 ],
 "metadata": {
  "kernelspec": {
   "display_name": "Python [conda env:base] *",
   "language": "python",
   "name": "conda-base-py"
  },
  "language_info": {
   "codemirror_mode": {
    "name": "ipython",
    "version": 3
   },
   "file_extension": ".py",
   "mimetype": "text/x-python",
   "name": "python",
   "nbconvert_exporter": "python",
   "pygments_lexer": "ipython3",
   "version": "3.12.7"
  }
 },
 "nbformat": 4,
 "nbformat_minor": 5
}
